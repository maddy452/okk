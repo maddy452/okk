{
 "cells": [
  {
   "cell_type": "code",
   "execution_count": 1,
   "id": "fda1ea23-70c6-49a7-92a7-930755123358",
   "metadata": {},
   "outputs": [
    {
     "name": "stdout",
     "output_type": "stream",
     "text": [
      "                                                                                                🔸\n",
      "                                                                               🔸\n",
      "                                 🎉\n",
      "                                                                                             💛\n",
      "                                                                                 🔸\n",
      "                                                                                              🍫\n",
      "      🔸\n",
      "                                                                                              🔸\n",
      "      🎂Happy Birthday! john banega don sadai khusi rahnu , xito hyper na hunu yo barsha\n",
      "                          🔸\n",
      "                                                                                 🎉\n",
      "                                                                     🔸\n",
      "                                                                    🍫\n",
      "                                                                                          💛\n",
      "               Happy Birthday!💖 swastika chota don \n",
      "                           🔸\n",
      "                    🔸\n",
      "                           🎂\n"
     ]
    }
   ],
   "source": [
    "\n"
   ]
  },
  {
   "cell_type": "code",
   "execution_count": null,
   "id": "022e9055-f579-442d-9341-fef07e8ecf19",
   "metadata": {},
   "outputs": [],
   "source": []
  }
 ],
 "metadata": {
  "kernelspec": {
   "display_name": "Python 3 (ipykernel)",
   "language": "python",
   "name": "python3"
  },
  "language_info": {
   "codemirror_mode": {
    "name": "ipython",
    "version": 3
   },
   "file_extension": ".py",
   "mimetype": "text/x-python",
   "name": "python",
   "nbconvert_exporter": "python",
   "pygments_lexer": "ipython3",
   "version": "3.12.6"
  }
 },
 "nbformat": 4,
 "nbformat_minor": 5
}
